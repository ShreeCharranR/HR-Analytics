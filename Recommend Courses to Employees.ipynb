{
 "cells": [
  {
   "cell_type": "markdown",
   "metadata": {},
   "source": [
    "#  Recommend Courses to Employees\n",
    "\n",
    " a model that predicts the rating, a given employee will provide for a given course. W\n"
   ]
  },
  {
   "cell_type": "markdown",
   "metadata": {},
   "source": [
    "##  Prepare for Embedding"
   ]
  },
  {
   "cell_type": "code",
   "execution_count": 11,
   "metadata": {},
   "outputs": [
    {
     "data": {
      "text/html": [
       "<div>\n",
       "<style scoped>\n",
       "    .dataframe tbody tr th:only-of-type {\n",
       "        vertical-align: middle;\n",
       "    }\n",
       "\n",
       "    .dataframe tbody tr th {\n",
       "        vertical-align: top;\n",
       "    }\n",
       "\n",
       "    .dataframe thead th {\n",
       "        text-align: right;\n",
       "    }\n",
       "</style>\n",
       "<table border=\"1\" class=\"dataframe\">\n",
       "  <thead>\n",
       "    <tr style=\"text-align: right;\">\n",
       "      <th></th>\n",
       "      <th>EmployeeID</th>\n",
       "      <th>EmpName</th>\n",
       "      <th>CourseID</th>\n",
       "      <th>CourseName</th>\n",
       "      <th>Rating</th>\n",
       "    </tr>\n",
       "  </thead>\n",
       "  <tbody>\n",
       "    <tr>\n",
       "      <th>0</th>\n",
       "      <td>1408</td>\n",
       "      <td>Ignace Ormonde</td>\n",
       "      <td>14</td>\n",
       "      <td>Video Production</td>\n",
       "      <td>3</td>\n",
       "    </tr>\n",
       "    <tr>\n",
       "      <th>1</th>\n",
       "      <td>1249</td>\n",
       "      <td>Gabriela Balcon</td>\n",
       "      <td>17</td>\n",
       "      <td>Translation</td>\n",
       "      <td>2</td>\n",
       "    </tr>\n",
       "    <tr>\n",
       "      <th>2</th>\n",
       "      <td>1158</td>\n",
       "      <td>Enrique Lewer</td>\n",
       "      <td>8</td>\n",
       "      <td>IT Architecture</td>\n",
       "      <td>3</td>\n",
       "    </tr>\n",
       "    <tr>\n",
       "      <th>3</th>\n",
       "      <td>1564</td>\n",
       "      <td>Wallie Byrd</td>\n",
       "      <td>18</td>\n",
       "      <td>Natural Language Processing</td>\n",
       "      <td>3</td>\n",
       "    </tr>\n",
       "    <tr>\n",
       "      <th>4</th>\n",
       "      <td>1334</td>\n",
       "      <td>Hannah Ganter</td>\n",
       "      <td>6</td>\n",
       "      <td>Java Programming</td>\n",
       "      <td>4</td>\n",
       "    </tr>\n",
       "  </tbody>\n",
       "</table>\n",
       "</div>"
      ],
      "text/plain": [
       "   EmployeeID          EmpName  CourseID                   CourseName  Rating\n",
       "0        1408   Ignace Ormonde        14             Video Production       3\n",
       "1        1249  Gabriela Balcon        17                  Translation       2\n",
       "2        1158    Enrique Lewer         8              IT Architecture       3\n",
       "3        1564      Wallie Byrd        18  Natural Language Processing       3\n",
       "4        1334    Hannah Ganter         6             Java Programming       4"
      ]
     },
     "execution_count": 11,
     "metadata": {},
     "output_type": "execute_result"
    }
   ],
   "source": [
    "#Loading data\n",
    "\n",
    "from csv import reader\n",
    "import pandas as pd\n",
    "import os\n",
    "import numpy as np\n",
    "import math\n",
    "\n",
    "ratings_data = pd.read_csv(\"employee_course_ratings.csv\")\n",
    "\n",
    "ratings_data.head()"
   ]
  },
  {
   "cell_type": "code",
   "execution_count": 12,
   "metadata": {},
   "outputs": [
    {
     "name": "stdout",
     "output_type": "stream",
     "text": [
      "Total Employees:  638\n",
      "Total Courses:  25\n"
     ]
    }
   ],
   "source": [
    "#Build list of unique Employees\n",
    "emp_list=ratings_data.groupby(\n",
    "    ['EmployeeID','EmpName']).size().reset_index()\n",
    "emp_list.head()\n",
    "print(\"Total Employees: \",len(emp_list))\n",
    "\n",
    "#Build list of unique Courses\n",
    "course_list=ratings_data.groupby(\n",
    "    ['CourseID','CourseName']).size().reset_index()\n",
    "course_list.head()\n",
    "print(\"Total Courses: \", len(course_list))"
   ]
  },
  {
   "cell_type": "code",
   "execution_count": 13,
   "metadata": {},
   "outputs": [],
   "source": [
    "from tensorflow.keras.layers import Input, Embedding, Flatten, Dot, Dense, Concatenate\n",
    "from tensorflow.keras.models import Model\n",
    "\n",
    "#build employee embedding vector\n",
    "#we are using IDs a the direct index to embedding.\n",
    "#Since IDs are continuous, we dont need ID-name mapping.\n",
    "#We can also build a vocabulary alternatively.\n",
    "\n",
    "emp_input = Input(shape=[1], name=\"Emp-Input\")\n",
    "emp_embed = Embedding(2001,  #max value of employee ID\n",
    "                      5,\n",
    "                      name=\"Emp-Embedding\")(emp_input)\n",
    "emp_vec = Flatten(name=\"Emp-Flatten\")(emp_embed)\n",
    "\n",
    "#build course embedding vector\n",
    "course_input = Input(shape=[1],name=\"Course-Input\")\n",
    "course_embed = Embedding(len(course_list) + 1,\n",
    "                         5,\n",
    "                         name=\"Course-Embedding\")(course_input)\n",
    "course_vec = Flatten(name=\"Course-Flatten\")(course_embed)\n",
    "\n",
    "#merge the vectors\n",
    "merged_vec = Concatenate()([emp_vec,course_vec])"
   ]
  },
  {
   "cell_type": "markdown",
   "metadata": {},
   "source": [
    "## . Building the  Rating Model\n",
    "\n",
    "The recommendation works as follows\n",
    "\n",
    "1. Build a model that can predict the rating, a given employee may give to a course he/she has not taken so far\n",
    "2. Use the model to predict possible ratings for all courses, for this employee.\n",
    "3. Recommend the courses that have the top predicted ratings"
   ]
  },
  {
   "cell_type": "code",
   "execution_count": 14,
   "metadata": {},
   "outputs": [
    {
     "name": "stdout",
     "output_type": "stream",
     "text": [
      "Model: \"functional_5\"\n",
      "__________________________________________________________________________________________________\n",
      "Layer (type)                    Output Shape         Param #     Connected to                     \n",
      "==================================================================================================\n",
      "Emp-Input (InputLayer)          [(None, 1)]          0                                            \n",
      "__________________________________________________________________________________________________\n",
      "Course-Input (InputLayer)       [(None, 1)]          0                                            \n",
      "__________________________________________________________________________________________________\n",
      "Emp-Embedding (Embedding)       (None, 1, 5)         10005       Emp-Input[0][0]                  \n",
      "__________________________________________________________________________________________________\n",
      "Course-Embedding (Embedding)    (None, 1, 5)         130         Course-Input[0][0]               \n",
      "__________________________________________________________________________________________________\n",
      "Emp-Flatten (Flatten)           (None, 5)            0           Emp-Embedding[0][0]              \n",
      "__________________________________________________________________________________________________\n",
      "Course-Flatten (Flatten)        (None, 5)            0           Course-Embedding[0][0]           \n",
      "__________________________________________________________________________________________________\n",
      "concatenate_2 (Concatenate)     (None, 10)           0           Emp-Flatten[0][0]                \n",
      "                                                                 Course-Flatten[0][0]             \n",
      "__________________________________________________________________________________________________\n",
      "dense_6 (Dense)                 (None, 128)          1408        concatenate_2[0][0]              \n",
      "__________________________________________________________________________________________________\n",
      "dense_7 (Dense)                 (None, 32)           4128        dense_6[0][0]                    \n",
      "__________________________________________________________________________________________________\n",
      "dense_8 (Dense)                 (None, 1)            33          dense_7[0][0]                    \n",
      "==================================================================================================\n",
      "Total params: 15,704\n",
      "Trainable params: 15,704\n",
      "Non-trainable params: 0\n",
      "__________________________________________________________________________________________________\n",
      "Fitting the model:\n",
      "Epoch 1/25\n",
      "26/26 [==============================] - 0s 8ms/step - loss: 8.8512 - val_loss: 7.1050\n",
      "Epoch 2/25\n",
      "26/26 [==============================] - 0s 3ms/step - loss: 5.7589 - val_loss: 3.0335\n",
      "Epoch 3/25\n",
      "26/26 [==============================] - 0s 3ms/step - loss: 2.0733 - val_loss: 1.8789\n",
      "Epoch 4/25\n",
      "26/26 [==============================] - 0s 3ms/step - loss: 1.6300 - val_loss: 1.6911\n",
      "Epoch 5/25\n",
      "26/26 [==============================] - 0s 2ms/step - loss: 1.4180 - val_loss: 1.6569\n",
      "Epoch 6/25\n",
      "26/26 [==============================] - 0s 3ms/step - loss: 1.1471 - val_loss: 1.6548\n",
      "Epoch 7/25\n",
      "26/26 [==============================] - 0s 2ms/step - loss: 0.8698 - val_loss: 1.7556\n",
      "Epoch 8/25\n",
      "26/26 [==============================] - 0s 2ms/step - loss: 0.6839 - val_loss: 1.8111\n",
      "Epoch 9/25\n",
      "26/26 [==============================] - 0s 2ms/step - loss: 0.5791 - val_loss: 1.8814\n",
      "Epoch 10/25\n",
      "26/26 [==============================] - 0s 2ms/step - loss: 0.5256 - val_loss: 1.9282\n",
      "Epoch 11/25\n",
      "26/26 [==============================] - 0s 2ms/step - loss: 0.4982 - val_loss: 1.9657\n",
      "Epoch 12/25\n",
      "26/26 [==============================] - 0s 2ms/step - loss: 0.4777 - val_loss: 2.0307\n",
      "Epoch 13/25\n",
      "26/26 [==============================] - 0s 2ms/step - loss: 0.4790 - val_loss: 2.0553\n",
      "Epoch 14/25\n",
      "26/26 [==============================] - 0s 2ms/step - loss: 0.4681 - val_loss: 2.0489\n",
      "Epoch 15/25\n",
      "26/26 [==============================] - 0s 3ms/step - loss: 0.4562 - val_loss: 2.1275\n",
      "Epoch 16/25\n",
      "26/26 [==============================] - 0s 3ms/step - loss: 0.4538 - val_loss: 2.0921\n",
      "Epoch 17/25\n",
      "26/26 [==============================] - 0s 2ms/step - loss: 0.4507 - val_loss: 2.0729\n",
      "Epoch 18/25\n",
      "26/26 [==============================] - 0s 2ms/step - loss: 0.4409 - val_loss: 2.1013\n",
      "Epoch 19/25\n",
      "26/26 [==============================] - 0s 2ms/step - loss: 0.4375 - val_loss: 2.0952\n",
      "Epoch 20/25\n",
      "26/26 [==============================] - 0s 2ms/step - loss: 0.4415 - val_loss: 2.1366\n",
      "Epoch 21/25\n",
      "26/26 [==============================] - 0s 2ms/step - loss: 0.4305 - val_loss: 2.1458\n",
      "Epoch 22/25\n",
      "26/26 [==============================] - 0s 2ms/step - loss: 0.4290 - val_loss: 2.1423\n",
      "Epoch 23/25\n",
      "26/26 [==============================] - 0s 2ms/step - loss: 0.4329 - val_loss: 2.1462\n",
      "Epoch 24/25\n",
      "26/26 [==============================] - 0s 2ms/step - loss: 0.4275 - val_loss: 2.2017\n",
      "Epoch 25/25\n",
      "26/26 [==============================] - 0s 2ms/step - loss: 0.4241 - val_loss: 2.1428\n",
      "Evaluating the model:\n",
      "4/4 [==============================] - 0s 2ms/step - loss: 2.4421\n"
     ]
    },
    {
     "data": {
      "text/plain": [
       "2.4420549869537354"
      ]
     },
     "execution_count": 14,
     "metadata": {},
     "output_type": "execute_result"
    }
   ],
   "source": [
    "#Given an Employee and a Course, this model predicts the \n",
    "#rating the employee will give this couse\n",
    "\n",
    "from sklearn.model_selection import train_test_split\n",
    "\n",
    "ratings_train, ratings_test = train_test_split(\n",
    "                                ratings_data, test_size=0.1)\n",
    "\n",
    "#add fully connected layers\n",
    "fc_layer1 = Dense(128,activation=\"relu\")(merged_vec)\n",
    "fc_layer2 = Dense(32, activation=\"relu\")(fc_layer1)\n",
    "model_output = Dense(1)(fc_layer2)\n",
    "\n",
    "rating_model= Model([emp_input,course_input],model_output)\n",
    "\n",
    "rating_model.compile(optimizer=\"adam\",\n",
    "                     loss=\"mean_squared_error\")\n",
    "\n",
    "rating_model.summary()\n",
    "\n",
    "print(\"Fitting the model:\")\n",
    "#Fit the model\n",
    "model_fit = rating_model.fit(\n",
    "    x=[ratings_train.EmployeeID, ratings_train.CourseID],\n",
    "    y=ratings_train.Rating,\n",
    "    epochs=25,\n",
    "    verbose=1,\n",
    "    validation_split=0.1\n",
    "    )\n",
    "\n",
    "print(\"Evaluating the model:\")\n",
    "rating_model.evaluate(\n",
    "    x=[ratings_test.EmployeeID, ratings_test.CourseID],\n",
    "    y=ratings_test.Rating)"
   ]
  },
  {
   "cell_type": "markdown",
   "metadata": {},
   "source": [
    "##  Recommending Courses "
   ]
  },
  {
   "cell_type": "code",
   "execution_count": 15,
   "metadata": {},
   "outputs": [
    {
     "data": {
      "text/plain": [
       "array([[3.6870313]], dtype=float32)"
      ]
     },
     "execution_count": 15,
     "metadata": {},
     "output_type": "execute_result"
    }
   ],
   "source": [
    "#Predicting the Rating for a given employee and a course\n",
    "#for employee 1029 and course 8\n",
    "\n",
    "rating_model.predict(\n",
    "    [pd.Series([1029]),\n",
    "     pd.Series([8])])"
   ]
  },
  {
   "cell_type": "code",
   "execution_count": 16,
   "metadata": {},
   "outputs": [
    {
     "name": "stdout",
     "output_type": "stream",
     "text": [
      "Course Ratings:  [3.2490697 3.2264514 3.9014983 4.376862  4.255427  4.6516747 4.3177137\n",
      " 4.240129  4.5906014 4.601039  4.1862016 3.987641  3.950977  3.5197337\n",
      " 4.736732  4.6420493 3.809194  3.7168226 3.7877018 4.3611884 3.7770374\n",
      " 3.856885  4.2413526]\n",
      "\n",
      "Rating  CourseID CourseName\n",
      "-----------------------------------\n",
      "  4.7      16     Audio Production\n",
      "  4.7      7     Project Management\n",
      "  4.6      17     Translation\n",
      "  4.6      11     Analytical Reasoning\n",
      "  4.6      10     Mobile Development\n"
     ]
    }
   ],
   "source": [
    "emp_to_predict=\"Harriot Laflin\"\n",
    "\n",
    "#Get employee ID for the employee name\n",
    "pred_emp_id=emp_list[emp_list['EmpName'] == emp_to_predict][\"EmployeeID\"].iloc[0]\n",
    "\n",
    "#find Courses already taken by employee. We dont want to predict those.\n",
    "completed_courses=ratings_data[\n",
    "                    ratings_data[\"EmployeeID\"] == pred_emp_id][\"CourseID\"].unique()\n",
    "\n",
    "#Courses not taken by employee\n",
    "new_courses = course_list.query(\"CourseID not in @completed_courses\")[\"CourseID\"]\n",
    "\n",
    "#Create a list with the same employee ID repeated for the same number of times as the\n",
    "#number of new courses. This provides the employee and course Series with same size\n",
    "emp_dummy_list=pd.Series(np.array([pred_emp_id for i in range(len(new_courses))]))\n",
    "\n",
    "#Predict ratings for the new courses for this employee\n",
    "projected_ratings = rating_model.predict([emp_dummy_list,new_courses])\n",
    "flat_ratings = np.array([x[0] for x in projected_ratings])\n",
    "\n",
    "print(\"Course Ratings: \", flat_ratings)\n",
    "\n",
    "#Recommend top 5 courses\n",
    "print(\"\\nRating  CourseID CourseName\\n-----------------------------------\")\n",
    "for idx in (-flat_ratings).argsort()[:5]:\n",
    "    course_id=new_courses.iloc[idx]\n",
    "    course_name=course_list.query(\"CourseID == @course_id\")[\"CourseName\"].iloc[0]\n",
    "    print(\" \", round(flat_ratings[idx],1),\"    \", course_id, \"   \", course_name)\n",
    "\n"
   ]
  },
  {
   "cell_type": "code",
   "execution_count": null,
   "metadata": {},
   "outputs": [],
   "source": []
  }
 ],
 "metadata": {
  "kernelspec": {
   "display_name": "Python 3",
   "language": "python",
   "name": "python3"
  },
  "language_info": {
   "codemirror_mode": {
    "name": "ipython",
    "version": 3
   },
   "file_extension": ".py",
   "mimetype": "text/x-python",
   "name": "python",
   "nbconvert_exporter": "python",
   "pygments_lexer": "ipython3",
   "version": "3.5.6"
  }
 },
 "nbformat": 4,
 "nbformat_minor": 4
}
