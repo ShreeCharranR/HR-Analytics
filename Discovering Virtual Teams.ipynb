{
 "cells": [
  {
   "cell_type": "markdown",
   "metadata": {},
   "source": [
    "# Discovering Virtual Teams\n",
    "\n"
   ]
  },
  {
   "cell_type": "markdown",
   "metadata": {},
   "source": [
    "## Preparing Network Data"
   ]
  },
  {
   "cell_type": "code",
   "execution_count": 4,
   "metadata": {
    "scrolled": true
   },
   "outputs": [
    {
     "name": "stderr",
     "output_type": "stream",
     "text": [
      "C:\\Users\\Shree.Charran\\.conda\\envs\\py35\\lib\\site-packages\\pandas\\core\\frame.py:7138: FutureWarning: Sorting because non-concatenation axis is not aligned. A future version\n",
      "of pandas will change to not sort by default.\n",
      "\n",
      "To accept the future behavior, pass 'sort=False'.\n",
      "\n",
      "To retain the current behavior and silence the warning, pass 'sort=True'.\n",
      "\n",
      "  sort=sort,\n"
     ]
    },
    {
     "name": "stdout",
     "output_type": "stream",
     "text": [
      "   Count  First Second\n",
      "0      7   Jeff  Stacy\n",
      "1      4   Jeff    Rob\n",
      "2      6   Emma   Jeff\n",
      "3      3   Emma    Rob\n",
      "4      4   Emma  Stacy\n",
      "5      4    Rob  Stacy\n",
      "6      3   Emma   Mike\n",
      "7      5   Jeff   Mike\n",
      "8      3   Mike    Rob\n",
      "9      5   Mike  Stacy\n",
      "10     5   Jeff   Lisa\n",
      "11     2   Emma   Lisa\n",
      "12     1   Emma  Mason\n",
      "13     2   Jeff  Mason\n",
      "14     6   Lisa  Mason\n",
      "15     2   Lisa   Mike\n",
      "16     2  Mason   Mike\n",
      "17     2   Lisa  Stacy\n",
      "18     1  David   Jeff\n",
      "19     6  David   Lisa\n",
      "20     1  David  Stacy\n",
      "21     4  David  Mason\n",
      "22     3  David  Sofia\n",
      "23     4   Lisa  Sofia\n",
      "24     3  Mason  Sofia\n"
     ]
    }
   ],
   "source": [
    "import networkx as nx\n",
    "import matplotlib.pyplot as plt\n",
    "\n",
    "from csv import reader\n",
    "import pandas as pd\n",
    "\n",
    "#Input file with one record per chat collaboration\n",
    "chat_csv = \"chat_groups.csv\"\n",
    "\n",
    "#Data frame to store employee pairs.\n",
    "employee_pairs = pd.DataFrame(columns=['First', 'Second', 'Count'])\n",
    "\n",
    "#Read file and extract pairs and weights\n",
    "with open(chat_csv, 'r', encoding=\"utf-8-sig\") as read_obj:\n",
    "    # pass the file object to reader() to get the reader object\n",
    "    csv_reader = reader(read_obj)\n",
    "    # Iterate over each row in the csv using reader object\n",
    "    for row in csv_reader:\n",
    "        #Sort by employee name\n",
    "        row.sort()\n",
    "        #sort and filter for only valid names\n",
    "        filtered_row = [ emp for emp in row\n",
    "                        if len(emp) > 0] \n",
    "\n",
    "        #Generate employee pairs\n",
    "        \n",
    "        #Iterate for the first employee\n",
    "        for i in range(0, len(filtered_row)-1):\n",
    "            #Iterate for the second employee\n",
    "            for j in range(i+1,len(filtered_row) ):\n",
    "            \n",
    "                first=filtered_row[i]\n",
    "                second=filtered_row[j]\n",
    "\n",
    "                #Create the pair record. If Dataframe record already exists\n",
    "                #Update the count. If not, create it\n",
    "                curr_rec = employee_pairs[\n",
    "                                (employee_pairs['First'] == first )\n",
    "                                & (employee_pairs['Second'] == second)]\n",
    "\n",
    "                if ( curr_rec.empty) :\n",
    "                    new_df = pd.DataFrame([{'First': first,\n",
    "                                            'Second' : second,\n",
    "                                            'Count':1}])\n",
    "                    employee_pairs=employee_pairs.append(new_df,\n",
    "                                                         ignore_index=True)\n",
    "\n",
    "                else:\n",
    "                    curr_rec.at[curr_rec.index[0],'Count'] = curr_rec.at[curr_rec.index[0],'Count'] + 1\n",
    "                    employee_pairs.update(curr_rec)\n",
    "                \n",
    "print(employee_pairs)"
   ]
  },
  {
   "cell_type": "markdown",
   "metadata": {},
   "source": [
    "##  Create and visualize the network"
   ]
  },
  {
   "cell_type": "code",
   "execution_count": 5,
   "metadata": {},
   "outputs": [
    {
     "name": "stdout",
     "output_type": "stream",
     "text": [
      "Network summary: \n",
      "-----------------\n",
      " Name: \n",
      "Type: Graph\n",
      "Number of nodes: 9\n",
      "Number of edges: 25\n",
      "Average degree:   5.5556\n"
     ]
    }
   ],
   "source": [
    "\n",
    "#Create a networkX graph\n",
    "graph_emps  = nx.Graph()\n",
    "\n",
    "#Add Edges based on the dataframe (nodes gets added automatically)\n",
    "for i,row in employee_pairs.iterrows():\n",
    "    graph_emps.add_edge(row['First'],  \n",
    "                        row['Second'],   \n",
    "                        weight=row['Count'])\n",
    "\n",
    "\n",
    "#Print network summary\n",
    "print(\"Network summary: \\n-----------------\\n\", nx.info(graph_emps))\n"
   ]
  },
  {
   "cell_type": "code",
   "execution_count": 7,
   "metadata": {},
   "outputs": [
    {
     "data": {
      "image/png": "[encoded data removed]",
      "text/plain": [
       "<Figure size 432x288 with 1 Axes>"
      ]
     },
     "metadata": {},
     "output_type": "display_data"
    }
   ],
   "source": [
    "# Create different types of edges based on their cohesion\n",
    "\n",
    "#Pairs with Count > 5 for high cohesion\n",
    "elarge = [(x1, x2) for (x1, x2, data) in graph_emps.edges(data=True) \n",
    "          if data['weight'] > 5]\n",
    "\n",
    "#Pairs with Count between 4 and 5 for medium cohesion\n",
    "emedium = [(x1, x2) for (x1, x2, data) in graph_emps.edges(data=True) \n",
    "          if  3 < data['weight'] <= 5]\n",
    "\n",
    "#Pairs with Count less than 4 for low cohesion\n",
    "esmall = [(x1, x2) for (x1, x2, data) in graph_emps.edges(data=True) \n",
    "          if data['weight'] <= 3]\n",
    "\n",
    "pos = nx.spring_layout(graph_emps)  # positions for all nodes\n",
    "\n",
    "## Setup the Graph\n",
    "# nodes\n",
    "nx.draw_networkx_nodes(graph_emps, pos, \n",
    "                       node_size=700,\n",
    "                       node_color='orange')\n",
    "\n",
    "\n",
    "nx.draw_networkx_edges(graph_emps, pos, \n",
    "                       edgelist=elarge,\n",
    "                       width=6,\n",
    "                       edge_color='blue')\n",
    "\n",
    "nx.draw_networkx_edges(graph_emps, pos, \n",
    "                       edgelist=emedium,\n",
    "                       width=4,\n",
    "                       edge_color='green')\n",
    "\n",
    "nx.draw_networkx_edges(graph_emps, pos, \n",
    "                       edgelist=esmall,\n",
    "                       width=2, \n",
    "                       edge_color='gray')\n",
    "\n",
    "# labels\n",
    "nx.draw_networkx_labels(graph_emps, \n",
    "                        pos, \n",
    "                        font_size=16, \n",
    "                        font_family='Consolas')\n",
    "\n",
    "\n",
    "plt.axis('off')\n",
    "plt.show();"
   ]
  },
  {
   "cell_type": "markdown",
   "metadata": {},
   "source": [
    "##  Analyzing the network"
   ]
  },
  {
   "cell_type": "code",
   "execution_count": 8,
   "metadata": {},
   "outputs": [
    {
     "name": "stdout",
     "output_type": "stream",
     "text": [
      "\n",
      "Nodes Mason is connected with :\n",
      "-------------------------------\n",
      "6\n",
      "\n",
      "Clustering Co-efficient:\n",
      "----------------------\n",
      "Rob  =  0.5582006819632447\n",
      "Sofia  =  0.553441073385821\n",
      "Stacy  =  0.3900329404151806\n",
      "Mike  =  0.3897463555319482\n",
      "Jeff  =  0.3819529217453334\n",
      "Emma  =  0.37932043201301996\n",
      "Lisa  =  0.32170848285500275\n",
      "David  =  0.3144738551035592\n",
      "Mason  =  0.29155561566514554\n",
      "\n",
      "Centrality :\n",
      "---------------\n",
      "Jeff  =  0.875\n",
      "Lisa  =  0.875\n",
      "Emma  =  0.75\n",
      "Stacy  =  0.75\n",
      "Mike  =  0.75\n",
      "Mason  =  0.75\n",
      "David  =  0.625\n",
      "Rob  =  0.5\n",
      "Sofia  =  0.375\n",
      "\n",
      "Betweenness:\n",
      "--------------\n",
      "Lisa  =  0.10634920634920635\n",
      "Mason  =  0.07738095238095238\n",
      "Jeff  =  0.07559523809523809\n",
      "Stacy  =  0.05257936507936508\n",
      "David  =  0.044841269841269835\n",
      "Emma  =  0.03591269841269841\n",
      "Mike  =  0.03591269841269841\n",
      "Rob  =  0.0\n",
      "Sofia  =  0.0\n"
     ]
    }
   ],
   "source": [
    "#Function to sort a dictionary by value\n",
    "def sort_dict(dict):\n",
    "    sorted_dict= sorted(dict.items(), key=lambda x: x[1],reverse=True)\n",
    "    \n",
    "    for key,value in sorted_dict:\n",
    "        print(key, \" = \", value)\n",
    "\n",
    "\n",
    "#find number of nodes they are connected with\n",
    "print(\"\\nNodes Mason is connected with :\\n-------------------------------\")\n",
    "print(nx.degree(graph_emps,'Mason'))\n",
    "\n",
    "#clustering - how close a team they form\n",
    "print(\"\\nClustering Co-efficient:\\n----------------------\")\n",
    "sort_dict(nx.clustering(graph_emps,weight='weight'))\n",
    "\n",
    "#Find centrality of nodes\n",
    "print(\"\\nCentrality :\\n---------------\")\n",
    "sort_dict(nx.degree_centrality(graph_emps))\n",
    "\n",
    "print(\"\\nBetweenness:\\n--------------\")\n",
    "sort_dict(nx.betweenness_centrality(graph_emps))\n"
   ]
  },
  {
   "cell_type": "code",
   "execution_count": null,
   "metadata": {},
   "outputs": [],
   "source": []
  },
  {
   "cell_type": "code",
   "execution_count": null,
   "metadata": {},
   "outputs": [],
   "source": []
  }
 ],
 "metadata": {
  "kernelspec": {
   "display_name": "Python 3",
   "language": "python",
   "name": "python3"
  },
  "language_info": {
   "codemirror_mode": {
    "name": "ipython",
    "version": 3
   },
   "file_extension": ".py",
   "mimetype": "text/x-python",
   "name": "python",
   "nbconvert_exporter": "python",
   "pygments_lexer": "ipython3",
   "version": "3.5.6"
  }
 },
 "nbformat": 4,
 "nbformat_minor": 4
}
